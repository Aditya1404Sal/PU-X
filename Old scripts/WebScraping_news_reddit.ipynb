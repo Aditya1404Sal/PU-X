{
 "cells": [
  {
   "cell_type": "code",
   "execution_count": null,
   "id": "eceb3c69",
   "metadata": {},
   "outputs": [
    {
     "ename": "",
     "evalue": "",
     "output_type": "error",
     "traceback": [
      "\u001b[1;31mRunning cells with 'Python 3.12.0' requires the ipykernel package.\n",
      "\u001b[1;31m<a href='command:jupyter.createPythonEnvAndSelectController'>Create a Python Environment</a> with the required packages.\n",
      "\u001b[1;31mOr install 'ipykernel' using the command: 'c:/Users/adity/AppData/Local/Programs/Python/Python312/python.exe -m pip install ipykernel -U --user --force-reinstall'"
     ]
    }
   ],
   "source": [
    "import requests\n",
    "from bs4 import BeautifulSoup\n",
    "import praw\n",
    "import json\n",
    "import datetime\n",
    "\n",
    "# Scrape news headlines from Moneycontrol (example source for NSE-related news)\n",
    "def scrape_moneycontrol_news():\n",
    "    url = \"https://www.moneycontrol.com/news/business/markets/\"\n",
    "    headers = {\"User-Agent\": \"Mozilla/5.0\"}\n",
    "    \n",
    "    response = requests.get(url, headers=headers)\n",
    "    if response.status_code != 200:\n",
    "        print(\"Failed to retrieve data\")\n",
    "        return []\n",
    "    \n",
    "    soup = BeautifulSoup(response.text, \"html.parser\")\n",
    "    headlines = []\n",
    "    \n",
    "    for article in soup.find_all(\"li\", class_=\"clearfix\" ):\n",
    "        title = article.find(\"h2\")\n",
    "        link = article.find(\"a\")\n",
    "        if title and link:\n",
    "            headlines.append({\"title\": title.text.strip(), \"url\": link[\"href\"]})\n",
    "    \n",
    "    return headlines\n",
    "\n",
    "# Scrape Reddit posts from stock-related subreddits\n",
    "def scrape_reddit():\n",
    "    reddit = praw.Reddit(\n",
    "        client_id=\"PVs4-U0vxQ56XsGDH6vZQg\",\n",
    "        client_secret=\"wTEdNfP1YRGlW4g-t7uXS5xhzb3y5A\",\n",
    "        user_agent=\"StockSentimentScraper by u/ApprehensiveDonut463\"\n",
    "    )\n",
    "    \n",
    "    subreddits = [\"IndianStockMarket\", \"stocks\", \"StockMarketIndia\"]\n",
    "    posts = []\n",
    "    \n",
    "    for subreddit in subreddits:\n",
    "        for submission in reddit.subreddit(subreddit).hot(limit=10):\n",
    "            posts.append({\n",
    "                \"title\": submission.title,\n",
    "                \"score\": submission.score,\n",
    "                \"url\": submission.url,\n",
    "                \"created_utc\": datetime.datetime.fromtimestamp(submission.created_utc).isoformat()\n",
    "            })\n",
    "    \n",
    "    return posts\n",
    "\n",
    "if __name__ == \"__main__\":\n",
    "    news_data = scrape_moneycontrol_news()\n",
    "    reddit_data = scrape_reddit()\n",
    "    \n",
    "    with open(\"stock_sentiment_data.json\", \"w\", encoding=\"utf-8\") as f:\n",
    "        json.dump({\"news\": news_data, \"reddit\": reddit_data}, f, ensure_ascii=False, indent=4)\n",
    "    \n",
    "    print(\"Data collected and saved successfully!\")\n"
   ]
  },
  {
   "cell_type": "code",
   "execution_count": null,
   "id": "fed67a24",
   "metadata": {},
   "outputs": [],
   "source": []
  }
 ],
 "metadata": {
  "kernelspec": {
   "display_name": "Python 3",
   "language": "python",
   "name": "python3"
  },
  "language_info": {
   "codemirror_mode": {
    "name": "ipython",
    "version": 3
   },
   "file_extension": ".py",
   "mimetype": "text/x-python",
   "name": "python",
   "nbconvert_exporter": "python",
   "pygments_lexer": "ipython3",
   "version": "3.12.0"
  }
 },
 "nbformat": 4,
 "nbformat_minor": 5
}
